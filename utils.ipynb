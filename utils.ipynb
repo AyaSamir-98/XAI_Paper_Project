{
 "cells": [
  {
   "cell_type": "code",
   "execution_count": 1,
   "id": "e89feb99-4eb0-455f-a61e-dc38af959f29",
   "metadata": {},
   "outputs": [],
   "source": [
    "import pandas as pd \n",
    "# Makes sure we see all columns\n",
    "pd.set_option('display.max_columns', None)\n",
    "from sklearn.model_selection import train_test_split\n",
    "from imblearn.over_sampling import RandomOverSampler"
   ]
  },
  {
   "cell_type": "code",
   "execution_count": 2,
   "id": "91392eba-9296-482d-bea9-e76c17ea7844",
   "metadata": {},
   "outputs": [],
   "source": [
    "class DataLoader():\n",
    "    def __init__(self):\n",
    "        self.data = None\n",
    "\n",
    "    def load_dataset(self, path=\"data/healthcare-dataset-stroke-data.csv\"):\n",
    "        self.data = pd.read_csv(path)\n",
    "\n",
    "    def preprocess_data(self):\n",
    "        # One-hot encode all categorical columns\n",
    "        categorical_cols = [\"gender\", \"ever_married\", \"work_type\", \"Residence_type\", \"smoking_status\"]\n",
    "        \n",
    "        # Use pd.get_dummies with dtype=int to ensure 0s and 1s\n",
    "        encoded = pd.get_dummies(self.data[categorical_cols], prefix=categorical_cols, dtype=int)\n",
    "    \n",
    "        # Update data with new columns\n",
    "        self.data = pd.concat([encoded, self.data], axis=1)\n",
    "        \n",
    "        # Drop original categorical columns\n",
    "        self.data.drop(categorical_cols, axis=1, inplace=True)\n",
    "    \n",
    "        # Impute missing values of BMI\n",
    "        self.data['bmi'] = self.data['bmi'].fillna(0)\n",
    "    \n",
    "        # Drop 'id' as it is not relevant\n",
    "        self.data.drop([\"id\"], axis=1, inplace=True)\n",
    "    \n",
    "        # Standardization \n",
    "        # Usually, we would standardize here and convert it back later\n",
    "        # But for simplification, we will not standardize / normalize the features\n",
    "\n",
    "\n",
    "    def get_data_split(self):\n",
    "        X = self.data.iloc[:,:-1]\n",
    "        y = self.data.iloc[:,-1]\n",
    "        return train_test_split(X, y, test_size=0.20, random_state=2021)\n",
    "    \n",
    "    def oversample(self, X_train, y_train):\n",
    "        oversample = RandomOverSampler(sampling_strategy='minority')\n",
    "        # Convert to numpy and oversample\n",
    "        x_np = X_train.to_numpy()\n",
    "        y_np = y_train.to_numpy()\n",
    "        x_np, y_np = oversample.fit_resample(x_np, y_np)\n",
    "        # Convert back to pandas\n",
    "        x_over = pd.DataFrame(x_np, columns=X_train.columns)\n",
    "        y_over = pd.Series(y_np, name=y_train.name)\n",
    "        return x_over, y_over"
   ]
  }
 ],
 "metadata": {
  "kernelspec": {
   "display_name": "Python 3 (ipykernel)",
   "language": "python",
   "name": "python3"
  },
  "language_info": {
   "codemirror_mode": {
    "name": "ipython",
    "version": 3
   },
   "file_extension": ".py",
   "mimetype": "text/x-python",
   "name": "python",
   "nbconvert_exporter": "python",
   "pygments_lexer": "ipython3",
   "version": "3.10.12"
  }
 },
 "nbformat": 4,
 "nbformat_minor": 5
}
